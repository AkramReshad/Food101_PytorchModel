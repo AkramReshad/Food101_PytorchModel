{
  "nbformat": 4,
  "nbformat_minor": 0,
  "metadata": {
    "colab": {
      "provenance": [],
      "machine_shape": "hm",
      "authorship_tag": "ABX9TyP5AZC6C8C5dvVpfPiWkuNc",
      "include_colab_link": true
    },
    "kernelspec": {
      "name": "python3",
      "display_name": "Python 3"
    },
    "language_info": {
      "name": "python"
    },
    "widgets": {
      "application/vnd.jupyter.widget-state+json": {
        "c90ccef187e6416d9337ce61e4c2c89b": {
          "model_module": "@jupyter-widgets/controls",
          "model_name": "HBoxModel",
          "model_module_version": "1.5.0",
          "state": {
            "_dom_classes": [],
            "_model_module": "@jupyter-widgets/controls",
            "_model_module_version": "1.5.0",
            "_model_name": "HBoxModel",
            "_view_count": null,
            "_view_module": "@jupyter-widgets/controls",
            "_view_module_version": "1.5.0",
            "_view_name": "HBoxView",
            "box_style": "",
            "children": [
              "IPY_MODEL_ef3140d070354cfcb9d26a4b2a645deb",
              "IPY_MODEL_aa601fb5af264a4e89970a131d831816",
              "IPY_MODEL_5f42cc285ef747dcb0f87e2ed200a7cd"
            ],
            "layout": "IPY_MODEL_3aee17328e9f48e494014ebbc4a3bb3e"
          }
        },
        "ef3140d070354cfcb9d26a4b2a645deb": {
          "model_module": "@jupyter-widgets/controls",
          "model_name": "HTMLModel",
          "model_module_version": "1.5.0",
          "state": {
            "_dom_classes": [],
            "_model_module": "@jupyter-widgets/controls",
            "_model_module_version": "1.5.0",
            "_model_name": "HTMLModel",
            "_view_count": null,
            "_view_module": "@jupyter-widgets/controls",
            "_view_module_version": "1.5.0",
            "_view_name": "HTMLView",
            "description": "",
            "description_tooltip": null,
            "layout": "IPY_MODEL_917decadabc34eab80f4f71432e2defc",
            "placeholder": "​",
            "style": "IPY_MODEL_4021b432736c4ccb9dada3fc76e834b9",
            "value": "100%"
          }
        },
        "aa601fb5af264a4e89970a131d831816": {
          "model_module": "@jupyter-widgets/controls",
          "model_name": "FloatProgressModel",
          "model_module_version": "1.5.0",
          "state": {
            "_dom_classes": [],
            "_model_module": "@jupyter-widgets/controls",
            "_model_module_version": "1.5.0",
            "_model_name": "FloatProgressModel",
            "_view_count": null,
            "_view_module": "@jupyter-widgets/controls",
            "_view_module_version": "1.5.0",
            "_view_name": "ProgressView",
            "bar_style": "success",
            "description": "",
            "description_tooltip": null,
            "layout": "IPY_MODEL_3412dbf3723b4fe9bd67366b72dcc3f7",
            "max": 10,
            "min": 0,
            "orientation": "horizontal",
            "style": "IPY_MODEL_ac387a03fb8a469fa4f73d8f3a28b99c",
            "value": 10
          }
        },
        "5f42cc285ef747dcb0f87e2ed200a7cd": {
          "model_module": "@jupyter-widgets/controls",
          "model_name": "HTMLModel",
          "model_module_version": "1.5.0",
          "state": {
            "_dom_classes": [],
            "_model_module": "@jupyter-widgets/controls",
            "_model_module_version": "1.5.0",
            "_model_name": "HTMLModel",
            "_view_count": null,
            "_view_module": "@jupyter-widgets/controls",
            "_view_module_version": "1.5.0",
            "_view_name": "HTMLView",
            "description": "",
            "description_tooltip": null,
            "layout": "IPY_MODEL_8a1a208507cd428cbf4b35a2f16821af",
            "placeholder": "​",
            "style": "IPY_MODEL_f596a641d382415ca8a93213ee11f163",
            "value": " 10/10 [01:16&lt;00:00,  7.59s/it]"
          }
        },
        "3aee17328e9f48e494014ebbc4a3bb3e": {
          "model_module": "@jupyter-widgets/base",
          "model_name": "LayoutModel",
          "model_module_version": "1.2.0",
          "state": {
            "_model_module": "@jupyter-widgets/base",
            "_model_module_version": "1.2.0",
            "_model_name": "LayoutModel",
            "_view_count": null,
            "_view_module": "@jupyter-widgets/base",
            "_view_module_version": "1.2.0",
            "_view_name": "LayoutView",
            "align_content": null,
            "align_items": null,
            "align_self": null,
            "border": null,
            "bottom": null,
            "display": null,
            "flex": null,
            "flex_flow": null,
            "grid_area": null,
            "grid_auto_columns": null,
            "grid_auto_flow": null,
            "grid_auto_rows": null,
            "grid_column": null,
            "grid_gap": null,
            "grid_row": null,
            "grid_template_areas": null,
            "grid_template_columns": null,
            "grid_template_rows": null,
            "height": null,
            "justify_content": null,
            "justify_items": null,
            "left": null,
            "margin": null,
            "max_height": null,
            "max_width": null,
            "min_height": null,
            "min_width": null,
            "object_fit": null,
            "object_position": null,
            "order": null,
            "overflow": null,
            "overflow_x": null,
            "overflow_y": null,
            "padding": null,
            "right": null,
            "top": null,
            "visibility": null,
            "width": null
          }
        },
        "917decadabc34eab80f4f71432e2defc": {
          "model_module": "@jupyter-widgets/base",
          "model_name": "LayoutModel",
          "model_module_version": "1.2.0",
          "state": {
            "_model_module": "@jupyter-widgets/base",
            "_model_module_version": "1.2.0",
            "_model_name": "LayoutModel",
            "_view_count": null,
            "_view_module": "@jupyter-widgets/base",
            "_view_module_version": "1.2.0",
            "_view_name": "LayoutView",
            "align_content": null,
            "align_items": null,
            "align_self": null,
            "border": null,
            "bottom": null,
            "display": null,
            "flex": null,
            "flex_flow": null,
            "grid_area": null,
            "grid_auto_columns": null,
            "grid_auto_flow": null,
            "grid_auto_rows": null,
            "grid_column": null,
            "grid_gap": null,
            "grid_row": null,
            "grid_template_areas": null,
            "grid_template_columns": null,
            "grid_template_rows": null,
            "height": null,
            "justify_content": null,
            "justify_items": null,
            "left": null,
            "margin": null,
            "max_height": null,
            "max_width": null,
            "min_height": null,
            "min_width": null,
            "object_fit": null,
            "object_position": null,
            "order": null,
            "overflow": null,
            "overflow_x": null,
            "overflow_y": null,
            "padding": null,
            "right": null,
            "top": null,
            "visibility": null,
            "width": null
          }
        },
        "4021b432736c4ccb9dada3fc76e834b9": {
          "model_module": "@jupyter-widgets/controls",
          "model_name": "DescriptionStyleModel",
          "model_module_version": "1.5.0",
          "state": {
            "_model_module": "@jupyter-widgets/controls",
            "_model_module_version": "1.5.0",
            "_model_name": "DescriptionStyleModel",
            "_view_count": null,
            "_view_module": "@jupyter-widgets/base",
            "_view_module_version": "1.2.0",
            "_view_name": "StyleView",
            "description_width": ""
          }
        },
        "3412dbf3723b4fe9bd67366b72dcc3f7": {
          "model_module": "@jupyter-widgets/base",
          "model_name": "LayoutModel",
          "model_module_version": "1.2.0",
          "state": {
            "_model_module": "@jupyter-widgets/base",
            "_model_module_version": "1.2.0",
            "_model_name": "LayoutModel",
            "_view_count": null,
            "_view_module": "@jupyter-widgets/base",
            "_view_module_version": "1.2.0",
            "_view_name": "LayoutView",
            "align_content": null,
            "align_items": null,
            "align_self": null,
            "border": null,
            "bottom": null,
            "display": null,
            "flex": null,
            "flex_flow": null,
            "grid_area": null,
            "grid_auto_columns": null,
            "grid_auto_flow": null,
            "grid_auto_rows": null,
            "grid_column": null,
            "grid_gap": null,
            "grid_row": null,
            "grid_template_areas": null,
            "grid_template_columns": null,
            "grid_template_rows": null,
            "height": null,
            "justify_content": null,
            "justify_items": null,
            "left": null,
            "margin": null,
            "max_height": null,
            "max_width": null,
            "min_height": null,
            "min_width": null,
            "object_fit": null,
            "object_position": null,
            "order": null,
            "overflow": null,
            "overflow_x": null,
            "overflow_y": null,
            "padding": null,
            "right": null,
            "top": null,
            "visibility": null,
            "width": null
          }
        },
        "ac387a03fb8a469fa4f73d8f3a28b99c": {
          "model_module": "@jupyter-widgets/controls",
          "model_name": "ProgressStyleModel",
          "model_module_version": "1.5.0",
          "state": {
            "_model_module": "@jupyter-widgets/controls",
            "_model_module_version": "1.5.0",
            "_model_name": "ProgressStyleModel",
            "_view_count": null,
            "_view_module": "@jupyter-widgets/base",
            "_view_module_version": "1.2.0",
            "_view_name": "StyleView",
            "bar_color": null,
            "description_width": ""
          }
        },
        "8a1a208507cd428cbf4b35a2f16821af": {
          "model_module": "@jupyter-widgets/base",
          "model_name": "LayoutModel",
          "model_module_version": "1.2.0",
          "state": {
            "_model_module": "@jupyter-widgets/base",
            "_model_module_version": "1.2.0",
            "_model_name": "LayoutModel",
            "_view_count": null,
            "_view_module": "@jupyter-widgets/base",
            "_view_module_version": "1.2.0",
            "_view_name": "LayoutView",
            "align_content": null,
            "align_items": null,
            "align_self": null,
            "border": null,
            "bottom": null,
            "display": null,
            "flex": null,
            "flex_flow": null,
            "grid_area": null,
            "grid_auto_columns": null,
            "grid_auto_flow": null,
            "grid_auto_rows": null,
            "grid_column": null,
            "grid_gap": null,
            "grid_row": null,
            "grid_template_areas": null,
            "grid_template_columns": null,
            "grid_template_rows": null,
            "height": null,
            "justify_content": null,
            "justify_items": null,
            "left": null,
            "margin": null,
            "max_height": null,
            "max_width": null,
            "min_height": null,
            "min_width": null,
            "object_fit": null,
            "object_position": null,
            "order": null,
            "overflow": null,
            "overflow_x": null,
            "overflow_y": null,
            "padding": null,
            "right": null,
            "top": null,
            "visibility": null,
            "width": null
          }
        },
        "f596a641d382415ca8a93213ee11f163": {
          "model_module": "@jupyter-widgets/controls",
          "model_name": "DescriptionStyleModel",
          "model_module_version": "1.5.0",
          "state": {
            "_model_module": "@jupyter-widgets/controls",
            "_model_module_version": "1.5.0",
            "_model_name": "DescriptionStyleModel",
            "_view_count": null,
            "_view_module": "@jupyter-widgets/base",
            "_view_module_version": "1.2.0",
            "_view_name": "StyleView",
            "description_width": ""
          }
        },
        "8335e723d4934d2f8b8f0b8f3516d937": {
          "model_module": "@jupyter-widgets/controls",
          "model_name": "HBoxModel",
          "model_module_version": "1.5.0",
          "state": {
            "_dom_classes": [],
            "_model_module": "@jupyter-widgets/controls",
            "_model_module_version": "1.5.0",
            "_model_name": "HBoxModel",
            "_view_count": null,
            "_view_module": "@jupyter-widgets/controls",
            "_view_module_version": "1.5.0",
            "_view_name": "HBoxView",
            "box_style": "",
            "children": [
              "IPY_MODEL_cfe87a48edb141edaf8aa4e3b7cfd1d8",
              "IPY_MODEL_5639978963934a05ac3e31765875ff25",
              "IPY_MODEL_789455bd57524c46ad2837a8481e30b9"
            ],
            "layout": "IPY_MODEL_79a24b67318b4afe809e53a83f74584d"
          }
        },
        "cfe87a48edb141edaf8aa4e3b7cfd1d8": {
          "model_module": "@jupyter-widgets/controls",
          "model_name": "HTMLModel",
          "model_module_version": "1.5.0",
          "state": {
            "_dom_classes": [],
            "_model_module": "@jupyter-widgets/controls",
            "_model_module_version": "1.5.0",
            "_model_name": "HTMLModel",
            "_view_count": null,
            "_view_module": "@jupyter-widgets/controls",
            "_view_module_version": "1.5.0",
            "_view_name": "HTMLView",
            "description": "",
            "description_tooltip": null,
            "layout": "IPY_MODEL_480d9a0848044c66b0c859a9b7ee56c7",
            "placeholder": "​",
            "style": "IPY_MODEL_a94e413b42d84712b4a5543d802de05d",
            "value": "100%"
          }
        },
        "5639978963934a05ac3e31765875ff25": {
          "model_module": "@jupyter-widgets/controls",
          "model_name": "FloatProgressModel",
          "model_module_version": "1.5.0",
          "state": {
            "_dom_classes": [],
            "_model_module": "@jupyter-widgets/controls",
            "_model_module_version": "1.5.0",
            "_model_name": "FloatProgressModel",
            "_view_count": null,
            "_view_module": "@jupyter-widgets/controls",
            "_view_module_version": "1.5.0",
            "_view_name": "ProgressView",
            "bar_style": "success",
            "description": "",
            "description_tooltip": null,
            "layout": "IPY_MODEL_643d0549f3394f9ab5f474c3b9019949",
            "max": 10,
            "min": 0,
            "orientation": "horizontal",
            "style": "IPY_MODEL_f562401474714e119381050ad6e10bb8",
            "value": 10
          }
        },
        "789455bd57524c46ad2837a8481e30b9": {
          "model_module": "@jupyter-widgets/controls",
          "model_name": "HTMLModel",
          "model_module_version": "1.5.0",
          "state": {
            "_dom_classes": [],
            "_model_module": "@jupyter-widgets/controls",
            "_model_module_version": "1.5.0",
            "_model_name": "HTMLModel",
            "_view_count": null,
            "_view_module": "@jupyter-widgets/controls",
            "_view_module_version": "1.5.0",
            "_view_name": "HTMLView",
            "description": "",
            "description_tooltip": null,
            "layout": "IPY_MODEL_2cd05c967b6443b6bf29d1d2d80eb86d",
            "placeholder": "​",
            "style": "IPY_MODEL_5995ba3be39b4459b1f8f16beb4562d7",
            "value": " 10/10 [01:19&lt;00:00,  7.96s/it]"
          }
        },
        "79a24b67318b4afe809e53a83f74584d": {
          "model_module": "@jupyter-widgets/base",
          "model_name": "LayoutModel",
          "model_module_version": "1.2.0",
          "state": {
            "_model_module": "@jupyter-widgets/base",
            "_model_module_version": "1.2.0",
            "_model_name": "LayoutModel",
            "_view_count": null,
            "_view_module": "@jupyter-widgets/base",
            "_view_module_version": "1.2.0",
            "_view_name": "LayoutView",
            "align_content": null,
            "align_items": null,
            "align_self": null,
            "border": null,
            "bottom": null,
            "display": null,
            "flex": null,
            "flex_flow": null,
            "grid_area": null,
            "grid_auto_columns": null,
            "grid_auto_flow": null,
            "grid_auto_rows": null,
            "grid_column": null,
            "grid_gap": null,
            "grid_row": null,
            "grid_template_areas": null,
            "grid_template_columns": null,
            "grid_template_rows": null,
            "height": null,
            "justify_content": null,
            "justify_items": null,
            "left": null,
            "margin": null,
            "max_height": null,
            "max_width": null,
            "min_height": null,
            "min_width": null,
            "object_fit": null,
            "object_position": null,
            "order": null,
            "overflow": null,
            "overflow_x": null,
            "overflow_y": null,
            "padding": null,
            "right": null,
            "top": null,
            "visibility": null,
            "width": null
          }
        },
        "480d9a0848044c66b0c859a9b7ee56c7": {
          "model_module": "@jupyter-widgets/base",
          "model_name": "LayoutModel",
          "model_module_version": "1.2.0",
          "state": {
            "_model_module": "@jupyter-widgets/base",
            "_model_module_version": "1.2.0",
            "_model_name": "LayoutModel",
            "_view_count": null,
            "_view_module": "@jupyter-widgets/base",
            "_view_module_version": "1.2.0",
            "_view_name": "LayoutView",
            "align_content": null,
            "align_items": null,
            "align_self": null,
            "border": null,
            "bottom": null,
            "display": null,
            "flex": null,
            "flex_flow": null,
            "grid_area": null,
            "grid_auto_columns": null,
            "grid_auto_flow": null,
            "grid_auto_rows": null,
            "grid_column": null,
            "grid_gap": null,
            "grid_row": null,
            "grid_template_areas": null,
            "grid_template_columns": null,
            "grid_template_rows": null,
            "height": null,
            "justify_content": null,
            "justify_items": null,
            "left": null,
            "margin": null,
            "max_height": null,
            "max_width": null,
            "min_height": null,
            "min_width": null,
            "object_fit": null,
            "object_position": null,
            "order": null,
            "overflow": null,
            "overflow_x": null,
            "overflow_y": null,
            "padding": null,
            "right": null,
            "top": null,
            "visibility": null,
            "width": null
          }
        },
        "a94e413b42d84712b4a5543d802de05d": {
          "model_module": "@jupyter-widgets/controls",
          "model_name": "DescriptionStyleModel",
          "model_module_version": "1.5.0",
          "state": {
            "_model_module": "@jupyter-widgets/controls",
            "_model_module_version": "1.5.0",
            "_model_name": "DescriptionStyleModel",
            "_view_count": null,
            "_view_module": "@jupyter-widgets/base",
            "_view_module_version": "1.2.0",
            "_view_name": "StyleView",
            "description_width": ""
          }
        },
        "643d0549f3394f9ab5f474c3b9019949": {
          "model_module": "@jupyter-widgets/base",
          "model_name": "LayoutModel",
          "model_module_version": "1.2.0",
          "state": {
            "_model_module": "@jupyter-widgets/base",
            "_model_module_version": "1.2.0",
            "_model_name": "LayoutModel",
            "_view_count": null,
            "_view_module": "@jupyter-widgets/base",
            "_view_module_version": "1.2.0",
            "_view_name": "LayoutView",
            "align_content": null,
            "align_items": null,
            "align_self": null,
            "border": null,
            "bottom": null,
            "display": null,
            "flex": null,
            "flex_flow": null,
            "grid_area": null,
            "grid_auto_columns": null,
            "grid_auto_flow": null,
            "grid_auto_rows": null,
            "grid_column": null,
            "grid_gap": null,
            "grid_row": null,
            "grid_template_areas": null,
            "grid_template_columns": null,
            "grid_template_rows": null,
            "height": null,
            "justify_content": null,
            "justify_items": null,
            "left": null,
            "margin": null,
            "max_height": null,
            "max_width": null,
            "min_height": null,
            "min_width": null,
            "object_fit": null,
            "object_position": null,
            "order": null,
            "overflow": null,
            "overflow_x": null,
            "overflow_y": null,
            "padding": null,
            "right": null,
            "top": null,
            "visibility": null,
            "width": null
          }
        },
        "f562401474714e119381050ad6e10bb8": {
          "model_module": "@jupyter-widgets/controls",
          "model_name": "ProgressStyleModel",
          "model_module_version": "1.5.0",
          "state": {
            "_model_module": "@jupyter-widgets/controls",
            "_model_module_version": "1.5.0",
            "_model_name": "ProgressStyleModel",
            "_view_count": null,
            "_view_module": "@jupyter-widgets/base",
            "_view_module_version": "1.2.0",
            "_view_name": "StyleView",
            "bar_color": null,
            "description_width": ""
          }
        },
        "2cd05c967b6443b6bf29d1d2d80eb86d": {
          "model_module": "@jupyter-widgets/base",
          "model_name": "LayoutModel",
          "model_module_version": "1.2.0",
          "state": {
            "_model_module": "@jupyter-widgets/base",
            "_model_module_version": "1.2.0",
            "_model_name": "LayoutModel",
            "_view_count": null,
            "_view_module": "@jupyter-widgets/base",
            "_view_module_version": "1.2.0",
            "_view_name": "LayoutView",
            "align_content": null,
            "align_items": null,
            "align_self": null,
            "border": null,
            "bottom": null,
            "display": null,
            "flex": null,
            "flex_flow": null,
            "grid_area": null,
            "grid_auto_columns": null,
            "grid_auto_flow": null,
            "grid_auto_rows": null,
            "grid_column": null,
            "grid_gap": null,
            "grid_row": null,
            "grid_template_areas": null,
            "grid_template_columns": null,
            "grid_template_rows": null,
            "height": null,
            "justify_content": null,
            "justify_items": null,
            "left": null,
            "margin": null,
            "max_height": null,
            "max_width": null,
            "min_height": null,
            "min_width": null,
            "object_fit": null,
            "object_position": null,
            "order": null,
            "overflow": null,
            "overflow_x": null,
            "overflow_y": null,
            "padding": null,
            "right": null,
            "top": null,
            "visibility": null,
            "width": null
          }
        },
        "5995ba3be39b4459b1f8f16beb4562d7": {
          "model_module": "@jupyter-widgets/controls",
          "model_name": "DescriptionStyleModel",
          "model_module_version": "1.5.0",
          "state": {
            "_model_module": "@jupyter-widgets/controls",
            "_model_module_version": "1.5.0",
            "_model_name": "DescriptionStyleModel",
            "_view_count": null,
            "_view_module": "@jupyter-widgets/base",
            "_view_module_version": "1.2.0",
            "_view_name": "StyleView",
            "description_width": ""
          }
        },
        "e89b588c41bf42b98fd45efb33df87bf": {
          "model_module": "@jupyter-widgets/controls",
          "model_name": "HBoxModel",
          "model_module_version": "1.5.0",
          "state": {
            "_dom_classes": [],
            "_model_module": "@jupyter-widgets/controls",
            "_model_module_version": "1.5.0",
            "_model_name": "HBoxModel",
            "_view_count": null,
            "_view_module": "@jupyter-widgets/controls",
            "_view_module_version": "1.5.0",
            "_view_name": "HBoxView",
            "box_style": "",
            "children": [
              "IPY_MODEL_27072662a4b54734adbbb9e0829de2ea",
              "IPY_MODEL_97ce84d254724ee4b35fa15a6ba62823",
              "IPY_MODEL_0c40463322b54b30ba26a655cc7ccde3"
            ],
            "layout": "IPY_MODEL_5fe92e910c594208b2e10468b148b20e"
          }
        },
        "27072662a4b54734adbbb9e0829de2ea": {
          "model_module": "@jupyter-widgets/controls",
          "model_name": "HTMLModel",
          "model_module_version": "1.5.0",
          "state": {
            "_dom_classes": [],
            "_model_module": "@jupyter-widgets/controls",
            "_model_module_version": "1.5.0",
            "_model_name": "HTMLModel",
            "_view_count": null,
            "_view_module": "@jupyter-widgets/controls",
            "_view_module_version": "1.5.0",
            "_view_name": "HTMLView",
            "description": "",
            "description_tooltip": null,
            "layout": "IPY_MODEL_10086eeee33f44d587942d5648b05277",
            "placeholder": "​",
            "style": "IPY_MODEL_c36a0cbed3ca449394c4082fe711118c",
            "value": "100%"
          }
        },
        "97ce84d254724ee4b35fa15a6ba62823": {
          "model_module": "@jupyter-widgets/controls",
          "model_name": "FloatProgressModel",
          "model_module_version": "1.5.0",
          "state": {
            "_dom_classes": [],
            "_model_module": "@jupyter-widgets/controls",
            "_model_module_version": "1.5.0",
            "_model_name": "FloatProgressModel",
            "_view_count": null,
            "_view_module": "@jupyter-widgets/controls",
            "_view_module_version": "1.5.0",
            "_view_name": "ProgressView",
            "bar_style": "success",
            "description": "",
            "description_tooltip": null,
            "layout": "IPY_MODEL_7b5a41b2949f43a1abd20809a3d76ada",
            "max": 10,
            "min": 0,
            "orientation": "horizontal",
            "style": "IPY_MODEL_9e0deab3742b4c3680ee2bbf9de08ddb",
            "value": 10
          }
        },
        "0c40463322b54b30ba26a655cc7ccde3": {
          "model_module": "@jupyter-widgets/controls",
          "model_name": "HTMLModel",
          "model_module_version": "1.5.0",
          "state": {
            "_dom_classes": [],
            "_model_module": "@jupyter-widgets/controls",
            "_model_module_version": "1.5.0",
            "_model_name": "HTMLModel",
            "_view_count": null,
            "_view_module": "@jupyter-widgets/controls",
            "_view_module_version": "1.5.0",
            "_view_name": "HTMLView",
            "description": "",
            "description_tooltip": null,
            "layout": "IPY_MODEL_6ce7c0216434484e8e3c0c1a8a7d7f98",
            "placeholder": "​",
            "style": "IPY_MODEL_5cb8d339c45d4c3580b6291a47a939d3",
            "value": " 10/10 [01:14&lt;00:00,  7.45s/it]"
          }
        },
        "5fe92e910c594208b2e10468b148b20e": {
          "model_module": "@jupyter-widgets/base",
          "model_name": "LayoutModel",
          "model_module_version": "1.2.0",
          "state": {
            "_model_module": "@jupyter-widgets/base",
            "_model_module_version": "1.2.0",
            "_model_name": "LayoutModel",
            "_view_count": null,
            "_view_module": "@jupyter-widgets/base",
            "_view_module_version": "1.2.0",
            "_view_name": "LayoutView",
            "align_content": null,
            "align_items": null,
            "align_self": null,
            "border": null,
            "bottom": null,
            "display": null,
            "flex": null,
            "flex_flow": null,
            "grid_area": null,
            "grid_auto_columns": null,
            "grid_auto_flow": null,
            "grid_auto_rows": null,
            "grid_column": null,
            "grid_gap": null,
            "grid_row": null,
            "grid_template_areas": null,
            "grid_template_columns": null,
            "grid_template_rows": null,
            "height": null,
            "justify_content": null,
            "justify_items": null,
            "left": null,
            "margin": null,
            "max_height": null,
            "max_width": null,
            "min_height": null,
            "min_width": null,
            "object_fit": null,
            "object_position": null,
            "order": null,
            "overflow": null,
            "overflow_x": null,
            "overflow_y": null,
            "padding": null,
            "right": null,
            "top": null,
            "visibility": null,
            "width": null
          }
        },
        "10086eeee33f44d587942d5648b05277": {
          "model_module": "@jupyter-widgets/base",
          "model_name": "LayoutModel",
          "model_module_version": "1.2.0",
          "state": {
            "_model_module": "@jupyter-widgets/base",
            "_model_module_version": "1.2.0",
            "_model_name": "LayoutModel",
            "_view_count": null,
            "_view_module": "@jupyter-widgets/base",
            "_view_module_version": "1.2.0",
            "_view_name": "LayoutView",
            "align_content": null,
            "align_items": null,
            "align_self": null,
            "border": null,
            "bottom": null,
            "display": null,
            "flex": null,
            "flex_flow": null,
            "grid_area": null,
            "grid_auto_columns": null,
            "grid_auto_flow": null,
            "grid_auto_rows": null,
            "grid_column": null,
            "grid_gap": null,
            "grid_row": null,
            "grid_template_areas": null,
            "grid_template_columns": null,
            "grid_template_rows": null,
            "height": null,
            "justify_content": null,
            "justify_items": null,
            "left": null,
            "margin": null,
            "max_height": null,
            "max_width": null,
            "min_height": null,
            "min_width": null,
            "object_fit": null,
            "object_position": null,
            "order": null,
            "overflow": null,
            "overflow_x": null,
            "overflow_y": null,
            "padding": null,
            "right": null,
            "top": null,
            "visibility": null,
            "width": null
          }
        },
        "c36a0cbed3ca449394c4082fe711118c": {
          "model_module": "@jupyter-widgets/controls",
          "model_name": "DescriptionStyleModel",
          "model_module_version": "1.5.0",
          "state": {
            "_model_module": "@jupyter-widgets/controls",
            "_model_module_version": "1.5.0",
            "_model_name": "DescriptionStyleModel",
            "_view_count": null,
            "_view_module": "@jupyter-widgets/base",
            "_view_module_version": "1.2.0",
            "_view_name": "StyleView",
            "description_width": ""
          }
        },
        "7b5a41b2949f43a1abd20809a3d76ada": {
          "model_module": "@jupyter-widgets/base",
          "model_name": "LayoutModel",
          "model_module_version": "1.2.0",
          "state": {
            "_model_module": "@jupyter-widgets/base",
            "_model_module_version": "1.2.0",
            "_model_name": "LayoutModel",
            "_view_count": null,
            "_view_module": "@jupyter-widgets/base",
            "_view_module_version": "1.2.0",
            "_view_name": "LayoutView",
            "align_content": null,
            "align_items": null,
            "align_self": null,
            "border": null,
            "bottom": null,
            "display": null,
            "flex": null,
            "flex_flow": null,
            "grid_area": null,
            "grid_auto_columns": null,
            "grid_auto_flow": null,
            "grid_auto_rows": null,
            "grid_column": null,
            "grid_gap": null,
            "grid_row": null,
            "grid_template_areas": null,
            "grid_template_columns": null,
            "grid_template_rows": null,
            "height": null,
            "justify_content": null,
            "justify_items": null,
            "left": null,
            "margin": null,
            "max_height": null,
            "max_width": null,
            "min_height": null,
            "min_width": null,
            "object_fit": null,
            "object_position": null,
            "order": null,
            "overflow": null,
            "overflow_x": null,
            "overflow_y": null,
            "padding": null,
            "right": null,
            "top": null,
            "visibility": null,
            "width": null
          }
        },
        "9e0deab3742b4c3680ee2bbf9de08ddb": {
          "model_module": "@jupyter-widgets/controls",
          "model_name": "ProgressStyleModel",
          "model_module_version": "1.5.0",
          "state": {
            "_model_module": "@jupyter-widgets/controls",
            "_model_module_version": "1.5.0",
            "_model_name": "ProgressStyleModel",
            "_view_count": null,
            "_view_module": "@jupyter-widgets/base",
            "_view_module_version": "1.2.0",
            "_view_name": "StyleView",
            "bar_color": null,
            "description_width": ""
          }
        },
        "6ce7c0216434484e8e3c0c1a8a7d7f98": {
          "model_module": "@jupyter-widgets/base",
          "model_name": "LayoutModel",
          "model_module_version": "1.2.0",
          "state": {
            "_model_module": "@jupyter-widgets/base",
            "_model_module_version": "1.2.0",
            "_model_name": "LayoutModel",
            "_view_count": null,
            "_view_module": "@jupyter-widgets/base",
            "_view_module_version": "1.2.0",
            "_view_name": "LayoutView",
            "align_content": null,
            "align_items": null,
            "align_self": null,
            "border": null,
            "bottom": null,
            "display": null,
            "flex": null,
            "flex_flow": null,
            "grid_area": null,
            "grid_auto_columns": null,
            "grid_auto_flow": null,
            "grid_auto_rows": null,
            "grid_column": null,
            "grid_gap": null,
            "grid_row": null,
            "grid_template_areas": null,
            "grid_template_columns": null,
            "grid_template_rows": null,
            "height": null,
            "justify_content": null,
            "justify_items": null,
            "left": null,
            "margin": null,
            "max_height": null,
            "max_width": null,
            "min_height": null,
            "min_width": null,
            "object_fit": null,
            "object_position": null,
            "order": null,
            "overflow": null,
            "overflow_x": null,
            "overflow_y": null,
            "padding": null,
            "right": null,
            "top": null,
            "visibility": null,
            "width": null
          }
        },
        "5cb8d339c45d4c3580b6291a47a939d3": {
          "model_module": "@jupyter-widgets/controls",
          "model_name": "DescriptionStyleModel",
          "model_module_version": "1.5.0",
          "state": {
            "_model_module": "@jupyter-widgets/controls",
            "_model_module_version": "1.5.0",
            "_model_name": "DescriptionStyleModel",
            "_view_count": null,
            "_view_module": "@jupyter-widgets/base",
            "_view_module_version": "1.2.0",
            "_view_name": "StyleView",
            "description_width": ""
          }
        }
      }
    },
    "accelerator": "GPU",
    "gpuClass": "premium"
  },
  "cells": [
    {
      "cell_type": "markdown",
      "metadata": {
        "id": "view-in-github",
        "colab_type": "text"
      },
      "source": [
        "<a href=\"https://colab.research.google.com/github/AkramReshad/Food101_PytorchModel/blob/main/Aces_model_for_Food.ipynb\" target=\"_parent\"><img src=\"https://colab.research.google.com/assets/colab-badge.svg\" alt=\"Open In Colab\"/></a>"
      ]
    },
    {
      "cell_type": "markdown",
      "source": [
        "## 0. This is my model to solve the steak sushi pizza dataset"
      ],
      "metadata": {
        "id": "uB9pGC6sNAhj"
      }
    },
    {
      "cell_type": "markdown",
      "source": [
        "### import libraries"
      ],
      "metadata": {
        "id": "yvJltIo8MliJ"
      }
    },
    {
      "cell_type": "code",
      "execution_count": 47,
      "metadata": {
        "id": "9tCPjBNkM7_8"
      },
      "outputs": [],
      "source": [
        "import torch\n",
        "from torch import nn\n",
        "from torch.utils.data import DataLoader\n",
        "from torchvision import datasets, transforms\n",
        "\n",
        "import pandas as pd\n",
        "import matplotlib.pyplot as plt\n",
        "\n",
        "\n",
        "import os\n",
        "import requests\n",
        "import zipfile\n",
        "from pathlib import Path\n",
        "import shutil\n",
        "from tqdm.auto import tqdm"
      ]
    },
    {
      "cell_type": "markdown",
      "source": [
        "### Constants"
      ],
      "metadata": {
        "id": "Dp9_m8UUMh-l"
      }
    },
    {
      "cell_type": "code",
      "source": [
        "# Device agnostic\n",
        "device = \"cuda\" if torch.cuda.is_available() else \"cpu\"\n",
        "\n",
        "NUM_EPOCHS = 10\n",
        "BATCH_SIZE = 32\n",
        "NUM_WORKERS = os.cpu_count()"
      ],
      "metadata": {
        "id": "TXlFuHzJNNIt"
      },
      "execution_count": 30,
      "outputs": []
    },
    {
      "cell_type": "code",
      "source": [
        "!nvidia-smi"
      ],
      "metadata": {
        "colab": {
          "base_uri": "https://localhost:8080/"
        },
        "id": "khG1rJIUe42E",
        "outputId": "00b960b1-feb1-457a-877f-ae685a0af6b3"
      },
      "execution_count": 31,
      "outputs": [
        {
          "output_type": "stream",
          "name": "stdout",
          "text": [
            "Wed Dec 14 02:47:47 2022       \n",
            "+-----------------------------------------------------------------------------+\n",
            "| NVIDIA-SMI 460.32.03    Driver Version: 460.32.03    CUDA Version: 11.2     |\n",
            "|-------------------------------+----------------------+----------------------+\n",
            "| GPU  Name        Persistence-M| Bus-Id        Disp.A | Volatile Uncorr. ECC |\n",
            "| Fan  Temp  Perf  Pwr:Usage/Cap|         Memory-Usage | GPU-Util  Compute M. |\n",
            "|                               |                      |               MIG M. |\n",
            "|===============================+======================+======================|\n",
            "|   0  A100-SXM4-40GB      Off  | 00000000:00:04.0 Off |                    0 |\n",
            "| N/A   39C    P0    57W / 400W |   4756MiB / 40536MiB |      0%      Default |\n",
            "|                               |                      |             Disabled |\n",
            "+-------------------------------+----------------------+----------------------+\n",
            "                                                                               \n",
            "+-----------------------------------------------------------------------------+\n",
            "| Processes:                                                                  |\n",
            "|  GPU   GI   CI        PID   Type   Process name                  GPU Memory |\n",
            "|        ID   ID                                                   Usage      |\n",
            "|=============================================================================|\n",
            "+-----------------------------------------------------------------------------+\n"
          ]
        }
      ]
    },
    {
      "cell_type": "markdown",
      "source": [
        "## 1. Get Data"
      ],
      "metadata": {
        "id": "GBVbd_yRNYD5"
      }
    },
    {
      "cell_type": "code",
      "source": [
        "\n",
        "# Setup path to a data folder\n",
        "data_path = Path(\"data/\")\n",
        "train_dir = data_path / \"train\"\n",
        "test_dir = data_path / \"test\"\n",
        "\n",
        "\n",
        "train_dir, test_dir\n"
      ],
      "metadata": {
        "colab": {
          "base_uri": "https://localhost:8080/"
        },
        "id": "fGWpfH-2NXsq",
        "outputId": "7691c2a6-df97-4368-dd59-c81dbdf71cef"
      },
      "execution_count": 4,
      "outputs": [
        {
          "output_type": "execute_result",
          "data": {
            "text/plain": [
              "(PosixPath('data/train'), PosixPath('data/test'))"
            ]
          },
          "metadata": {},
          "execution_count": 4
        }
      ]
    },
    {
      "cell_type": "markdown",
      "source": [
        "## 2. Process Data\n"
      ],
      "metadata": {
        "id": "Ec3MDJgcOJ7l"
      }
    },
    {
      "cell_type": "markdown",
      "source": [
        "### 2.1 Create data transform"
      ],
      "metadata": {
        "id": "_GJi9RfxPaP3"
      }
    },
    {
      "cell_type": "code",
      "source": [
        "# Create training transform with TrivialAugment\n",
        "train_transform = transforms.Compose([\n",
        "                                      transforms.Resize(size=(224,224)),\n",
        "                                      # transforms.TrivialAugmentWide(num_magnitude_bins=31),\n",
        "                                      transforms.ToTensor()\n",
        "])\n",
        "\n",
        "test_transform = transforms.Compose([\n",
        "                                    transforms.Resize(size=(224,224)),\n",
        "                                    transforms.ToTensor()\n",
        "])\n"
      ],
      "metadata": {
        "id": "r8G2VnVEOMhY"
      },
      "execution_count": 5,
      "outputs": []
    },
    {
      "cell_type": "markdown",
      "source": [
        "### 2.2 Create Dataset from `torchvision.datasets.Food101`"
      ],
      "metadata": {
        "id": "G70wBW2WPfJo"
      }
    },
    {
      "cell_type": "code",
      "source": [
        "# Get DataSet From Food101\n",
        "\n",
        "if train_dir.is_dir():\n",
        "  print(f\"Dataset is already downloaded\")\n",
        "else:\n",
        "  train_data = datasets.Food101(root=train_dir,\n",
        "                                split= \"train\",\n",
        "                                transform=train_transform, # a transform for the  data\n",
        "                                target_transform=None,\n",
        "                                download=True)\n",
        "  \n",
        "if test_dir.is_dir():\n",
        "  print(f\"Dataset is already downloaded\")\n",
        "else:                            \n",
        "  test_data =  datasets.Food101(root=test_dir,\n",
        "                                split=\"test\",\n",
        "                                transform=test_transform, # a transform for the  data\n",
        "                                target_transform=None,\n",
        "                                download=True)\n"
      ],
      "metadata": {
        "colab": {
          "base_uri": "https://localhost:8080/"
        },
        "id": "eFpA75oVOsSx",
        "outputId": "8ae53a75-6fbd-4efe-f137-2563c43732a3"
      },
      "execution_count": 6,
      "outputs": [
        {
          "output_type": "stream",
          "name": "stdout",
          "text": [
            "Extracting data/test/food-101.tar.gz to data/test\n"
          ]
        }
      ]
    },
    {
      "cell_type": "code",
      "source": [
        "# Work on a few classes first instead of all 101 so we remove all the other classes\n",
        "targets_to_keep = [\"pizza\",\"steak\",\"sushi\"]\n",
        "\n",
        "if (train_dir / \"food-101\").is_dir():\n",
        "  for dirpath, dirnames, filenames in os.walk(train_dir / \"food-101/images\"):\n",
        "    label = dirpath.split(\"/\")[-1]\n",
        "    if label in targets_to_keep: \n",
        "      shutil.move(dirpath, train_dir)\n",
        "    elif label != \"images\":\n",
        "      shutil.rmtree(dirpath)\n",
        "  shutil.rmtree(train_dir / \"food-101\")\n",
        "  os.remove(train_dir / \"food-101.tar.gz\")\n",
        "else:\n",
        "  print(f\"{train_dir}/food-101 already purged\")   \n",
        "\n",
        "if (test_dir / \"food-101\").is_dir():\n",
        "  for dirpath, dirnames, filenames in os.walk(test_dir / \"food-101/images\"):\n",
        "    label = dirpath.split(\"/\")[-1]\n",
        "    if label in targets_to_keep: \n",
        "      shutil.move(dirpath, test_dir)\n",
        "    elif label != \"images\":\n",
        "      shutil.rmtree(dirpath)\n",
        "  shutil.rmtree(test_dir / \"food-101\")\n",
        "  os.remove(test_dir / \"food-101.tar.gz\")\n",
        "else:\n",
        "  print(f\"{test_dir}/food-101 already purged\")   "
      ],
      "metadata": {
        "id": "XXIy0s3vEXQm"
      },
      "execution_count": 7,
      "outputs": []
    },
    {
      "cell_type": "code",
      "source": [
        "# Put the New data in\n",
        "train_data = datasets.ImageFolder(root=train_dir,\n",
        "                                transform=train_transform, # a transform for the  data\n",
        "                                target_transform=None)\n",
        "\n",
        "test_data = datasets.ImageFolder(root=test_dir,\n",
        "                                transform=test_transform, # a transform for the  data\n",
        "                                target_transform=None)"
      ],
      "metadata": {
        "id": "ofuGk6-Lc1Qi"
      },
      "execution_count": 8,
      "outputs": []
    },
    {
      "cell_type": "code",
      "source": [
        "class_names = train_data.classes\n",
        "class_dict = train_data.class_to_idx\n",
        "class_names, class_dict"
      ],
      "metadata": {
        "colab": {
          "base_uri": "https://localhost:8080/"
        },
        "id": "QUq7S9vCNjbd",
        "outputId": "6e4f9cf4-afe5-4d20-8d2e-edf09284422d"
      },
      "execution_count": 9,
      "outputs": [
        {
          "output_type": "execute_result",
          "data": {
            "text/plain": [
              "(['pizza', 'steak', 'sushi'], {'pizza': 0, 'steak': 1, 'sushi': 2})"
            ]
          },
          "metadata": {},
          "execution_count": 9
        }
      ]
    },
    {
      "cell_type": "markdown",
      "source": [
        "### 2.3 Create DataLoader"
      ],
      "metadata": {
        "id": "CnzoJ5qJPouC"
      }
    },
    {
      "cell_type": "code",
      "source": [
        "# Turn train and test datasets into DataLoader's\n",
        "train_dataloader = DataLoader(dataset=train_data,\n",
        "                              batch_size=BATCH_SIZE,\n",
        "                              num_workers= NUM_WORKERS,\n",
        "                              shuffle=True)\n",
        "test_dataloader = DataLoader(dataset=test_data,\n",
        "                             batch_size=BATCH_SIZE,\n",
        "                             num_workers= NUM_WORKERS,\n",
        "                             shuffle=False) \n",
        "\n"
      ],
      "metadata": {
        "id": "dHtdglx4PY3U"
      },
      "execution_count": 10,
      "outputs": []
    },
    {
      "cell_type": "markdown",
      "source": [
        "## 3. Create a Model"
      ],
      "metadata": {
        "id": "A8kNfUlIP7J5"
      }
    },
    {
      "cell_type": "code",
      "source": [
        "class TinyAce(nn.Module):\n",
        "  \"\"\"\n",
        "  Model architecture copying tiny VGG grom CNN Explainer\n",
        "  \"\"\"\n",
        "  def __init__(self, input_shape:int,\n",
        "                hidden_units:int,\n",
        "                output_shape: int)-> None:\n",
        "    super().__init__()\n",
        "    self.conv_block_1 = nn.Sequential(\n",
        "      nn.Conv2d(in_channels=input_shape, out_channels=hidden_units, kernel_size=3,stride=1,padding=1),\n",
        "      nn.ReLU(),\n",
        "      nn.Conv2d(in_channels=hidden_units, out_channels=hidden_units, kernel_size=3, stride=1, padding=1),\n",
        "      nn.ReLU(),\n",
        "      nn.MaxPool2d(kernel_size=2, stride=2)\n",
        "    )\n",
        "    self.conv_block_2 = nn.Sequential(\n",
        "      nn.Conv2d(in_channels=hidden_units, out_channels=hidden_units, kernel_size=3, stride=1, padding=1),\n",
        "      nn.ReLU(),\n",
        "      nn.Conv2d(in_channels=hidden_units, out_channels=hidden_units, kernel_size=3, stride=1, padding=1),\n",
        "      nn.ReLU(),\n",
        "      nn.MaxPool2d(kernel_size=2, stride=2)\n",
        "    )\n",
        "    self.classifier= nn.Sequential(\n",
        "        nn.Flatten(),\n",
        "        nn.Linear(in_features=hidden_units*56*56, out_features=output_shape)\n",
        "    )\n",
        "  def forward(self,x):\n",
        "    # x =self.conv_block_1(x)\n",
        "    # print(x.shape)\n",
        "    # x =self.conv_block_2(x)\n",
        "    # print(x.shape)\n",
        "    # x =self.classifier(x)\n",
        "    # print(x.shape)\n",
        "    # return x\n",
        "    return self.classifier(self.conv_block_2(self.conv_block_1(x)))"
      ],
      "metadata": {
        "id": "A0qvqBsGP6uf"
      },
      "execution_count": 21,
      "outputs": []
    },
    {
      "cell_type": "code",
      "source": [
        "torch.manual_seed(42)\n",
        "model_0 = TinyAce(input_shape=3,\n",
        "                  hidden_units=32,\n",
        "                  output_shape=len(class_names)).to(device)\n"
      ],
      "metadata": {
        "id": "Cqr7NWxDQhTi"
      },
      "execution_count": 22,
      "outputs": []
    },
    {
      "cell_type": "code",
      "source": [
        "# Get a single image batch\n",
        "image_batch,label_batch = next(iter(train_dataloader))\n",
        "image_batch.shape,label_batch.shape"
      ],
      "metadata": {
        "colab": {
          "base_uri": "https://localhost:8080/"
        },
        "id": "2Jh_iiFrQLiq",
        "outputId": "ced85445-b317-4d47-d6bd-dc978483b52c"
      },
      "execution_count": 23,
      "outputs": [
        {
          "output_type": "execute_result",
          "data": {
            "text/plain": [
              "(torch.Size([32, 3, 224, 224]), torch.Size([32]))"
            ]
          },
          "metadata": {},
          "execution_count": 23
        }
      ]
    },
    {
      "cell_type": "code",
      "source": [
        "model_0(image_batch.to(device))"
      ],
      "metadata": {
        "colab": {
          "base_uri": "https://localhost:8080/"
        },
        "id": "pKUOFxgTQeR5",
        "outputId": "ad4906c6-5853-4fa1-8b59-26a5a4a672f9"
      },
      "execution_count": 24,
      "outputs": [
        {
          "output_type": "execute_result",
          "data": {
            "text/plain": [
              "tensor([[ 0.0202,  0.0088, -0.0088],\n",
              "        [ 0.0186,  0.0036, -0.0101],\n",
              "        [ 0.0207,  0.0081, -0.0093],\n",
              "        [ 0.0184,  0.0074, -0.0094],\n",
              "        [ 0.0203,  0.0041, -0.0093],\n",
              "        [ 0.0173,  0.0063, -0.0095],\n",
              "        [ 0.0186,  0.0040, -0.0101],\n",
              "        [ 0.0182,  0.0051, -0.0070],\n",
              "        [ 0.0189,  0.0037, -0.0097],\n",
              "        [ 0.0173,  0.0072, -0.0090],\n",
              "        [ 0.0185,  0.0086, -0.0098],\n",
              "        [ 0.0207,  0.0004, -0.0113],\n",
              "        [ 0.0201,  0.0071, -0.0091],\n",
              "        [ 0.0176,  0.0087, -0.0059],\n",
              "        [ 0.0181,  0.0080, -0.0104],\n",
              "        [ 0.0187,  0.0064, -0.0068],\n",
              "        [ 0.0197,  0.0057, -0.0084],\n",
              "        [ 0.0178,  0.0046, -0.0081],\n",
              "        [ 0.0217,  0.0096, -0.0095],\n",
              "        [ 0.0202,  0.0056, -0.0074],\n",
              "        [ 0.0221,  0.0080, -0.0098],\n",
              "        [ 0.0209,  0.0097, -0.0088],\n",
              "        [ 0.0159,  0.0077, -0.0092],\n",
              "        [ 0.0203,  0.0046, -0.0110],\n",
              "        [ 0.0205,  0.0055, -0.0104],\n",
              "        [ 0.0178,  0.0008, -0.0100],\n",
              "        [ 0.0191,  0.0079, -0.0097],\n",
              "        [ 0.0208,  0.0035, -0.0100],\n",
              "        [ 0.0211,  0.0014, -0.0082],\n",
              "        [ 0.0194,  0.0054, -0.0089],\n",
              "        [ 0.0198,  0.0049, -0.0065],\n",
              "        [ 0.0190,  0.0069, -0.0115]], device='cuda:0',\n",
              "       grad_fn=<AddmmBackward0>)"
            ]
          },
          "metadata": {},
          "execution_count": 24
        }
      ]
    },
    {
      "cell_type": "markdown",
      "source": [
        "## 4. Train the model\n"
      ],
      "metadata": {
        "id": "FXmMBfcWKMNx"
      }
    },
    {
      "cell_type": "code",
      "source": [
        "# Create train_step()\n",
        "def train_step(model: torch.nn.Module, \n",
        "               dataloader: torch.utils.data.DataLoader, \n",
        "               loss_fn: torch.nn.Module, \n",
        "               optimizer: torch.optim.Optimizer):\n",
        "    # Put model in train mode\n",
        "    model.train()\n",
        "    \n",
        "    # Setup train loss and train accuracy values\n",
        "    train_loss, train_acc = 0, 0\n",
        "    \n",
        "    # Loop through data loader data batches\n",
        "    for batch, (X, y) in enumerate(dataloader):\n",
        "        # Send data to target device\n",
        "        X, y = X.to(device), y.to(device)\n",
        "\n",
        "        # 1. Forward pass\n",
        "        y_pred = model(X)\n",
        "\n",
        "        # 2. Calculate  and accumulate loss\n",
        "        loss = loss_fn(y_pred, y)\n",
        "        train_loss += loss.item() \n",
        "\n",
        "        # 3. Optimizer zero grad\n",
        "        optimizer.zero_grad()\n",
        "\n",
        "        # 4. Loss backward\n",
        "        loss.backward()\n",
        "\n",
        "        # 5. Optimizer step\n",
        "        optimizer.step()\n",
        "\n",
        "        # Calculate and accumulate accuracy metric across all batches\n",
        "        y_pred_class = torch.argmax(torch.softmax(y_pred, dim=1), dim=1)\n",
        "        train_acc += (y_pred_class == y).sum().item()/len(y_pred)\n",
        "\n",
        "    # Adjust metrics to get average loss and accuracy per batch \n",
        "    train_loss = train_loss / len(dataloader)\n",
        "    train_acc = train_acc / len(dataloader)\n",
        "    return train_loss, train_acc"
      ],
      "metadata": {
        "id": "42XVfUuTKLyd"
      },
      "execution_count": 25,
      "outputs": []
    },
    {
      "cell_type": "code",
      "source": [
        "# Create a test step\n",
        "def test_step(model: torch.nn.Module,\n",
        "              dataloader: torch.utils.data.DataLoader,\n",
        "              loss_fn: torch.nn.Module):\n",
        "  # Put model in eval mode\n",
        "  model.eval()\n",
        "\n",
        "  #Setup test loss and test accuracy values\n",
        "  test_loss, test_acc = 0, 0\n",
        "\n",
        "  # Turn on inference mode\n",
        "  with torch.inference_mode():\n",
        "    #loop through DataLoader batches\n",
        "    for batch, (X, y) in enumerate(dataloader):\n",
        "      # Send data to the target device\n",
        "      X,y = X.to(device),y.to(device)\n",
        "      # 1. Forwar pass \n",
        "      test_pred_logits = model(X)\n",
        "                               \n",
        "      # 2. Calculate the loss \n",
        "      loss = loss_fn(test_pred_logits, y)\n",
        "      test_loss += loss.item()\n",
        "      \n",
        "      # calculate the accuracy\n",
        "      test_pred_labels = test_pred_logits.argmax(dim=1)\n",
        "      test_acc += (test_pred_labels == y).sum().item()/len(test_pred_labels)\n",
        "\n",
        "    # Adjusts metrics to get average loss and accuracy per batch\n",
        "\n",
        "    test_loss = test_loss / len(dataloader)\n",
        "    test_acc = test_acc / len(dataloader)\n",
        "    return test_loss, test_acc"
      ],
      "metadata": {
        "id": "cCkECs11RE8c"
      },
      "execution_count": 26,
      "outputs": []
    },
    {
      "cell_type": "code",
      "source": [
        "#1.Create a train function that takes in various model parameters +optimizer + dataloaders + loss functions\n",
        "def train(model: torch.nn.Module,\n",
        "          train_dataloader: torch.utils.data.DataLoader,\n",
        "          test_dataloader: torch.utils.data.DataLoader,\n",
        "          optimizer: torch.optim.Optimizer,\n",
        "          loss_fn: torch.nn.Module = nn.CrossEntropyLoss(),\n",
        "          epochs: int = 5,\n",
        "          device=device\n",
        "          ):\n",
        "  \n",
        "  # 2. create empty results dictionary\n",
        "  results={\"train_loss\":[],\n",
        "           \"train_acc\":[],\n",
        "           \"test_loss\":[],\n",
        "           \"test_acc\":[]}\n",
        "\n",
        "  # 3. Loop through training and testing steps for a number of epochs\n",
        "  for epoch in tqdm(range(epochs)):\n",
        "    train_loss, train_acc = train_step(model=model,\n",
        "                                       dataloader=train_dataloader,\n",
        "                                       loss_fn=loss_fn,\n",
        "                                       optimizer=optimizer)\n",
        "    test_loss, test_acc = test_step(model=model,\n",
        "                                    dataloader=test_dataloader,\n",
        "                                    loss_fn=loss_fn)\n",
        "    # 4. Print out what's happening\n",
        "    print(f\"Epoch: {epoch} | Train loss: {train_loss:.4f} | Train acc: {train_acc: .4f} | Test loss {test_loss:.4f} | Test  acc: {test_acc: .4f} \") \n",
        "\n",
        "    # 5. Updates results dictionary\n",
        "    results[\"train_loss\"].append(train_loss)\n",
        "    results[\"train_acc\"].append(train_acc)\n",
        "    results[\"test_loss\"].append(test_loss)\n",
        "    results[\"test_acc\"].append(test_acc)\n",
        "  \n",
        "  # 6. Return the filled results at the end of the epochs\n",
        "  return results"
      ],
      "metadata": {
        "id": "nN1XJVsaL_d0"
      },
      "execution_count": 27,
      "outputs": []
    },
    {
      "cell_type": "code",
      "source": [
        "# Set random seeds\n",
        "torch.manual_seed(42)\n",
        "torch.cuda.manual_seed(42)\n",
        "\n",
        "# Set number of epochs\n",
        "\n",
        "# Setup loss function and optimizer\n",
        "loss_fn = nn.CrossEntropyLoss()\n",
        "optimizer = torch.optim.Adam(params=model_0.parameters(),\n",
        "                             lr=0.001) \n",
        "\n",
        "# Start the timer\n",
        "from timeit import default_timer as timer\n",
        "start_time = timer()\n",
        "\n",
        "# Train model_0\n",
        "model_0_results = train(model=model_0,\n",
        "      train_dataloader = train_dataloader,\n",
        "      test_dataloader= test_dataloader,\n",
        "      optimizer=optimizer,\n",
        "      loss_fn=loss_fn,\n",
        "      epochs = NUM_EPOCHS)\n",
        "\n",
        "# End the timer and print out how long it took\n",
        "end_time = timer()\n",
        "print(f\"Total training time {end_time - start_time: .3f} seconds\")"
      ],
      "metadata": {
        "colab": {
          "base_uri": "https://localhost:8080/",
          "height": 256,
          "referenced_widgets": [
            "c90ccef187e6416d9337ce61e4c2c89b",
            "ef3140d070354cfcb9d26a4b2a645deb",
            "aa601fb5af264a4e89970a131d831816",
            "5f42cc285ef747dcb0f87e2ed200a7cd",
            "3aee17328e9f48e494014ebbc4a3bb3e",
            "917decadabc34eab80f4f71432e2defc",
            "4021b432736c4ccb9dada3fc76e834b9",
            "3412dbf3723b4fe9bd67366b72dcc3f7",
            "ac387a03fb8a469fa4f73d8f3a28b99c",
            "8a1a208507cd428cbf4b35a2f16821af",
            "f596a641d382415ca8a93213ee11f163"
          ]
        },
        "id": "EQmzTpz1MD8l",
        "outputId": "531707c2-04f0-4eb8-e065-ac17c3fee3ca"
      },
      "execution_count": 32,
      "outputs": [
        {
          "output_type": "display_data",
          "data": {
            "text/plain": [
              "  0%|          | 0/10 [00:00<?, ?it/s]"
            ],
            "application/vnd.jupyter.widget-view+json": {
              "version_major": 2,
              "version_minor": 0,
              "model_id": "c90ccef187e6416d9337ce61e4c2c89b"
            }
          },
          "metadata": {}
        },
        {
          "output_type": "stream",
          "name": "stdout",
          "text": [
            "Epoch: 0 | Train loss: 0.8168 | Train acc:  0.6320 | Test loss 0.7164 | Test  acc:  0.6976 \n",
            "Epoch: 1 | Train loss: 0.7313 | Train acc:  0.6854 | Test loss 0.7838 | Test  acc:  0.6351 \n",
            "Epoch: 2 | Train loss: 0.6680 | Train acc:  0.7325 | Test loss 0.5128 | Test  acc:  0.8184 \n",
            "Epoch: 3 | Train loss: 0.5423 | Train acc:  0.7777 | Test loss 0.3789 | Test  acc:  0.8692 \n",
            "Epoch: 4 | Train loss: 0.3789 | Train acc:  0.8558 | Test loss 0.2273 | Test  acc:  0.9291 \n",
            "Epoch: 5 | Train loss: 0.2007 | Train acc:  0.9296 | Test loss 0.0932 | Test  acc:  0.9778 \n",
            "Epoch: 6 | Train loss: 0.0808 | Train acc:  0.9744 | Test loss 0.0333 | Test  acc:  0.9916 \n",
            "Epoch: 7 | Train loss: 0.0297 | Train acc:  0.9934 | Test loss 0.0121 | Test  acc:  0.9969 \n",
            "Epoch: 8 | Train loss: 0.0128 | Train acc:  0.9967 | Test loss 0.0073 | Test  acc:  0.9987 \n",
            "Epoch: 9 | Train loss: 0.0122 | Train acc:  0.9973 | Test loss 0.0190 | Test  acc:  0.9949 \n",
            "Total training time  76.031 seconds\n"
          ]
        }
      ]
    },
    {
      "cell_type": "code",
      "source": [
        "model_0_results"
      ],
      "metadata": {
        "id": "oxS17cmSMMTX",
        "colab": {
          "base_uri": "https://localhost:8080/"
        },
        "outputId": "2e825e52-7e8e-4648-cd76-bf6853163b66"
      },
      "execution_count": 33,
      "outputs": [
        {
          "output_type": "execute_result",
          "data": {
            "text/plain": [
              "{'train_loss': [0.8167894469930771,\n",
              "  0.7313428137530672,\n",
              "  0.6680020813612227,\n",
              "  0.5423497338878348,\n",
              "  0.37893436928378776,\n",
              "  0.2007221259335254,\n",
              "  0.08080794210446642,\n",
              "  0.029667777862607877,\n",
              "  0.0128224830971684,\n",
              "  0.012163436809211642],\n",
              " 'train_acc': [0.6319813829787234,\n",
              "  0.6853945035460992,\n",
              "  0.7324911347517731,\n",
              "  0.7777039007092199,\n",
              "  0.8558289007092199,\n",
              "  0.9296320921985816,\n",
              "  0.9744015957446809,\n",
              "  0.9933510638297872,\n",
              "  0.9966755319148937,\n",
              "  0.9973404255319149],\n",
              " 'test_loss': [0.716396708120691,\n",
              "  0.7838152234858655,\n",
              "  0.5127743961329155,\n",
              "  0.37888275340516514,\n",
              "  0.22730968555712955,\n",
              "  0.09321737402376343,\n",
              "  0.03327298646995877,\n",
              "  0.01211545138466271,\n",
              "  0.007328262980507211,\n",
              "  0.01900127480060272],\n",
              " 'test_acc': [0.6975842198581561,\n",
              "  0.635084219858156,\n",
              "  0.8183732269503545,\n",
              "  0.8692375886524822,\n",
              "  0.9290780141843971,\n",
              "  0.9778368794326242,\n",
              "  0.9915780141843971,\n",
              "  0.9968971631205673,\n",
              "  0.9986702127659575,\n",
              "  0.9949024822695035]}"
            ]
          },
          "metadata": {},
          "execution_count": 33
        }
      ]
    },
    {
      "cell_type": "markdown",
      "source": [
        "### Create model with data augmentation"
      ],
      "metadata": {
        "id": "SDfmHWwJijwq"
      }
    },
    {
      "cell_type": "code",
      "source": [
        "# Create training transform with TrivialAugment\n",
        "train_transform_trivial = transforms.Compose([\n",
        "                                      transforms.Resize(size=(224,224)),\n",
        "                                      transforms.TrivialAugmentWide(num_magnitude_bins=31),\n",
        "                                      transforms.ToTensor()\n",
        "])\n",
        "\n",
        "test_transform = transforms.Compose([\n",
        "                                    transforms.Resize(size=(224,224)),\n",
        "                                    transforms.ToTensor()\n",
        "])"
      ],
      "metadata": {
        "id": "bZi4eHsVijIj"
      },
      "execution_count": 41,
      "outputs": []
    },
    {
      "cell_type": "code",
      "source": [
        "# Put the New data in\n",
        "train_data_trivial = datasets.ImageFolder(root=train_dir,\n",
        "                                transform=train_transform_trivial, # a transform for the  data\n",
        "                                target_transform=None)\n",
        "\n",
        "test_data = datasets.ImageFolder(root=test_dir,\n",
        "                                transform=test_transform, # a transform for the  data\n",
        "                                target_transform=None)"
      ],
      "metadata": {
        "id": "PKBnyvhPix40"
      },
      "execution_count": 43,
      "outputs": []
    },
    {
      "cell_type": "code",
      "source": [
        "# Turn train and test datasets into DataLoader's\n",
        "train_dataloader_trivial = DataLoader(dataset=train_data,\n",
        "                              batch_size=BATCH_SIZE,\n",
        "                              num_workers= NUM_WORKERS,\n",
        "                              shuffle=True)\n",
        "test_dataloader = DataLoader(dataset=test_data,\n",
        "                             batch_size=BATCH_SIZE,\n",
        "                             num_workers= NUM_WORKERS,\n",
        "                             shuffle=False)"
      ],
      "metadata": {
        "id": "qSrZcYrOkDj5"
      },
      "execution_count": 44,
      "outputs": []
    },
    {
      "cell_type": "code",
      "source": [
        "torch.manual_seed(42)\n",
        "model_1 = TinyAce(input_shape=3,\n",
        "                  hidden_units=32,\n",
        "                  output_shape=len(class_names)).to(device)"
      ],
      "metadata": {
        "id": "1LURnxSgjjHW"
      },
      "execution_count": 38,
      "outputs": []
    },
    {
      "cell_type": "code",
      "source": [
        "# Set random seeds\n",
        "torch.manual_seed(42)\n",
        "torch.cuda.manual_seed(42)\n",
        "\n",
        "# Set number of epochs\n",
        "\n",
        "# Setup loss function and optimizer\n",
        "loss_fn = nn.CrossEntropyLoss()\n",
        "optimizer = torch.optim.Adam(params=model_1.parameters(),\n",
        "                             lr=0.001) \n",
        "\n",
        "# Start the timer\n",
        "from timeit import default_timer as timer\n",
        "start_time = timer()\n",
        "\n",
        "# Train model_0\n",
        "model_1_results = train(model=model_1,\n",
        "      train_dataloader = train_dataloader_trivial,\n",
        "      test_dataloader= test_dataloader,\n",
        "      optimizer=optimizer,\n",
        "      loss_fn=loss_fn,\n",
        "      epochs = NUM_EPOCHS)\n",
        "\n",
        "# End the timer and print out how long it took\n",
        "end_time = timer()\n",
        "print(f\"Total training time {end_time - start_time: .3f} seconds\")"
      ],
      "metadata": {
        "colab": {
          "base_uri": "https://localhost:8080/",
          "height": 256,
          "referenced_widgets": [
            "8335e723d4934d2f8b8f0b8f3516d937",
            "cfe87a48edb141edaf8aa4e3b7cfd1d8",
            "5639978963934a05ac3e31765875ff25",
            "789455bd57524c46ad2837a8481e30b9",
            "79a24b67318b4afe809e53a83f74584d",
            "480d9a0848044c66b0c859a9b7ee56c7",
            "a94e413b42d84712b4a5543d802de05d",
            "643d0549f3394f9ab5f474c3b9019949",
            "f562401474714e119381050ad6e10bb8",
            "2cd05c967b6443b6bf29d1d2d80eb86d",
            "5995ba3be39b4459b1f8f16beb4562d7"
          ]
        },
        "id": "RyNW1ypEj6fL",
        "outputId": "e82e0937-7e60-4f85-dfe6-07c32c702fc7"
      },
      "execution_count": 45,
      "outputs": [
        {
          "output_type": "display_data",
          "data": {
            "text/plain": [
              "  0%|          | 0/10 [00:00<?, ?it/s]"
            ],
            "application/vnd.jupyter.widget-view+json": {
              "version_major": 2,
              "version_minor": 0,
              "model_id": "8335e723d4934d2f8b8f0b8f3516d937"
            }
          },
          "metadata": {}
        },
        {
          "output_type": "stream",
          "name": "stdout",
          "text": [
            "Epoch: 0 | Train loss: 1.0337 | Train acc:  0.4558 | Test loss 0.8820 | Test  acc:  0.5811 \n",
            "Epoch: 1 | Train loss: 0.9303 | Train acc:  0.5462 | Test loss 0.8577 | Test  acc:  0.5976 \n",
            "Epoch: 2 | Train loss: 0.9098 | Train acc:  0.5674 | Test loss 0.7781 | Test  acc:  0.6678 \n",
            "Epoch: 3 | Train loss: 0.8872 | Train acc:  0.5842 | Test loss 0.8431 | Test  acc:  0.6374 \n",
            "Epoch: 4 | Train loss: 0.8804 | Train acc:  0.5980 | Test loss 0.7716 | Test  acc:  0.6787 \n",
            "Epoch: 5 | Train loss: 0.8415 | Train acc:  0.6208 | Test loss 0.7670 | Test  acc:  0.6288 \n",
            "Epoch: 6 | Train loss: 0.8201 | Train acc:  0.6303 | Test loss 0.6741 | Test  acc:  0.7165 \n",
            "Epoch: 7 | Train loss: 0.7867 | Train acc:  0.6587 | Test loss 0.6179 | Test  acc:  0.7697 \n",
            "Epoch: 8 | Train loss: 0.7536 | Train acc:  0.6769 | Test loss 0.5795 | Test  acc:  0.7524 \n",
            "Epoch: 9 | Train loss: 0.7038 | Train acc:  0.6977 | Test loss 0.5189 | Test  acc:  0.8244 \n",
            "Total training time  79.755 seconds\n"
          ]
        }
      ]
    },
    {
      "cell_type": "code",
      "source": [
        "class TinyAce10(nn.Module):\n",
        "  \"\"\"\n",
        "  Model architecture copying tiny VGG grom CNN Explainer\n",
        "  \"\"\"\n",
        "  def __init__(self, input_shape:int,\n",
        "                hidden_units:int,\n",
        "                output_shape: int)-> None:\n",
        "    super().__init__()\n",
        "    self.conv_block_1 = nn.Sequential(\n",
        "      nn.Conv2d(in_channels=input_shape, out_channels=hidden_units, kernel_size=3,stride=1,padding=1),\n",
        "      nn.ReLU(),\n",
        "      nn.Conv2d(in_channels=hidden_units, out_channels=hidden_units, kernel_size=3, stride=1, padding=1),\n",
        "      nn.ReLU(),\n",
        "      nn.MaxPool2d(kernel_size=2, stride=2)\n",
        "    )\n",
        "    self.conv_block_2 = nn.Sequential(\n",
        "      nn.Conv2d(in_channels=hidden_units, out_channels=hidden_units, kernel_size=3, stride=1, padding=1),\n",
        "      nn.ReLU(),\n",
        "      nn.Conv2d(in_channels=hidden_units, out_channels=hidden_units, kernel_size=3, stride=1, padding=1),\n",
        "      nn.ReLU(),\n",
        "      nn.MaxPool2d(kernel_size=2, stride=2)\n",
        "    )\n",
        "    self.classifier= nn.Sequential(\n",
        "        nn.Flatten(),\n",
        "        nn.Linear(in_features=hidden_units*56*56, out_features=output_shape)\n",
        "    )\n",
        "  def forward(self,x):\n",
        "    # x =self.conv_block_1(x)\n",
        "    # print(x.shape)\n",
        "    # x =self.conv_block_2(x)\n",
        "    # print(x.shape)\n",
        "    # x =self.classifier(x)\n",
        "    # print(x.shape)\n",
        "    # return x\n",
        "    return self.classifier(self.conv_block_2(self.conv_block_1(x)))"
      ],
      "metadata": {
        "id": "noX_tzvvl5WT"
      },
      "execution_count": 58,
      "outputs": []
    },
    {
      "cell_type": "code",
      "source": [
        "torch.manual_seed(42)\n",
        "model_2 = TinyAce10(input_shape=3,\n",
        "                  hidden_units=10,\n",
        "                  output_shape=len(class_names)).to(device)"
      ],
      "metadata": {
        "id": "ztqxDlo5ly1y"
      },
      "execution_count": 59,
      "outputs": []
    },
    {
      "cell_type": "code",
      "source": [
        "# Set random seeds\n",
        "torch.manual_seed(42)\n",
        "torch.cuda.manual_seed(42)\n",
        "\n",
        "# Set number of epochs\n",
        "\n",
        "# Setup loss function and optimizer\n",
        "loss_fn = nn.CrossEntropyLoss()\n",
        "optimizer = torch.optim.Adam(params=model_2.parameters(),\n",
        "                             lr=0.001) \n",
        "\n",
        "# Start the timer\n",
        "from timeit import default_timer as timer\n",
        "start_time = timer()\n",
        "\n",
        "# Train model_0\n",
        "model_2_results = train(model=model_2,\n",
        "      train_dataloader = train_dataloader,\n",
        "      test_dataloader= test_dataloader,\n",
        "      optimizer=optimizer,\n",
        "      loss_fn=loss_fn,\n",
        "      epochs = NUM_EPOCHS)\n",
        "\n",
        "# End the timer and print out how long it took\n",
        "end_time = timer()\n",
        "print(f\"Total training time {end_time - start_time: .3f} seconds\")"
      ],
      "metadata": {
        "colab": {
          "base_uri": "https://localhost:8080/",
          "height": 256,
          "referenced_widgets": [
            "e89b588c41bf42b98fd45efb33df87bf",
            "27072662a4b54734adbbb9e0829de2ea",
            "97ce84d254724ee4b35fa15a6ba62823",
            "0c40463322b54b30ba26a655cc7ccde3",
            "5fe92e910c594208b2e10468b148b20e",
            "10086eeee33f44d587942d5648b05277",
            "c36a0cbed3ca449394c4082fe711118c",
            "7b5a41b2949f43a1abd20809a3d76ada",
            "9e0deab3742b4c3680ee2bbf9de08ddb",
            "6ce7c0216434484e8e3c0c1a8a7d7f98",
            "5cb8d339c45d4c3580b6291a47a939d3"
          ]
        },
        "id": "oPBaUp8LmG8R",
        "outputId": "bc488cd8-b504-4411-f64e-4225dd9e96c6"
      },
      "execution_count": 60,
      "outputs": [
        {
          "output_type": "display_data",
          "data": {
            "text/plain": [
              "  0%|          | 0/10 [00:00<?, ?it/s]"
            ],
            "application/vnd.jupyter.widget-view+json": {
              "version_major": 2,
              "version_minor": 0,
              "model_id": "e89b588c41bf42b98fd45efb33df87bf"
            }
          },
          "metadata": {}
        },
        {
          "output_type": "stream",
          "name": "stdout",
          "text": [
            "Epoch: 0 | Train loss: 1.0509 | Train acc:  0.4555 | Test loss 0.9002 | Test  acc:  0.5890 \n",
            "Epoch: 1 | Train loss: 0.8821 | Train acc:  0.5943 | Test loss 0.9160 | Test  acc:  0.5250 \n",
            "Epoch: 2 | Train loss: 0.8398 | Train acc:  0.6250 | Test loss 0.7982 | Test  acc:  0.6439 \n",
            "Epoch: 3 | Train loss: 0.8095 | Train acc:  0.6406 | Test loss 0.7834 | Test  acc:  0.6728 \n",
            "Epoch: 4 | Train loss: 0.7917 | Train acc:  0.6519 | Test loss 0.7559 | Test  acc:  0.6811 \n",
            "Epoch: 5 | Train loss: 0.7478 | Train acc:  0.6725 | Test loss 0.7174 | Test  acc:  0.6852 \n",
            "Epoch: 6 | Train loss: 0.7155 | Train acc:  0.6991 | Test loss 0.7058 | Test  acc:  0.7026 \n",
            "Epoch: 7 | Train loss: 0.6855 | Train acc:  0.7214 | Test loss 0.6518 | Test  acc:  0.7381 \n",
            "Epoch: 8 | Train loss: 0.6120 | Train acc:  0.7503 | Test loss 0.5109 | Test  acc:  0.8116 \n",
            "Epoch: 9 | Train loss: 0.5238 | Train acc:  0.7902 | Test loss 0.4301 | Test  acc:  0.8525 \n",
            "Total training time  74.485 seconds\n"
          ]
        }
      ]
    },
    {
      "cell_type": "markdown",
      "source": [
        "### Plot loss curves"
      ],
      "metadata": {
        "id": "2Ats-5pclMEB"
      }
    },
    {
      "cell_type": "code",
      "source": [
        "def plot_loss_curves(results):\n",
        "  \"\"\"Plots training curves of a results dictionary\"\"\"\n",
        "  # Get the loss values of the results dictionary (training and test)\n",
        "  loss = results[\"train_loss\"]\n",
        "  test_loss = results[\"test_loss\"]\n",
        "\n",
        "  # Get the accuracry values of the results dicitonary (training and test)\n",
        "  accuracy = results[\"train_acc\"]\n",
        "  test_accuracy = results[\"test_acc\"]\n",
        "\n",
        "  # figure out how amny epochs there were \n",
        "  epochs = range(len(results[\"train_loss\"]))\n",
        "\n",
        "  # Setup a plot\n",
        "  plt.figure(figsize=(15,7))\n",
        "\n",
        "  # Plot the loss\n",
        "  plt.subplot(1,2,1)\n",
        "  plt.plot(epochs, loss, label = \"train_loss\")\n",
        "  plt.plot(epochs, test_loss, label = \"test_loss\")\n",
        "  plt.title(\"Loss\")\n",
        "  plt.xlabel(\"Epochs\")\n",
        "  plt.legend()\n",
        "\n",
        "  # Plot the accuracy\n",
        "  plt.subplot(1,2,2)\n",
        "  plt.plot(epochs, accuracy, label = \"train_acc\")\n",
        "  plt.plot(epochs, test_accuracy, label = \"test_acc\")\n",
        "  plt.title(\"Accuracy\")\n",
        "  plt.xlabel(\"Epochs\")\n",
        "  plt.legend();"
      ],
      "metadata": {
        "id": "1bbhFOcskTIg"
      },
      "execution_count": 52,
      "outputs": []
    },
    {
      "cell_type": "code",
      "source": [
        "print()\n",
        "plot_loss_curves(model_0_results)"
      ],
      "metadata": {
        "colab": {
          "base_uri": "https://localhost:8080/",
          "height": 478
        },
        "id": "IoP7R5k6lPN1",
        "outputId": "e70110b2-d223-4517-db57-6e2812459475"
      },
      "execution_count": 53,
      "outputs": [
        {
          "output_type": "display_data",
          "data": {
            "text/plain": [
              "<Figure size 1080x504 with 2 Axes>"
            ],
            "image/png": "[encoded data removed]"
          },
          "metadata": {
            "needs_background": "light"
          }
        }
      ]
    },
    {
      "cell_type": "code",
      "source": [
        "plot_loss_curves(model_1_results)"
      ],
      "metadata": {
        "colab": {
          "base_uri": "https://localhost:8080/",
          "height": 478
        },
        "id": "vVmcwtGJlWQU",
        "outputId": "ba372194-b5d8-4ebf-ee3b-54ac25bee115"
      },
      "execution_count": 54,
      "outputs": [
        {
          "output_type": "display_data",
          "data": {
            "text/plain": [
              "<Figure size 1080x504 with 2 Axes>"
            ],
            "image/png": "[encoded data removed]"
          },
          "metadata": {
            "needs_background": "light"
          }
        }
      ]
    },
    {
      "cell_type": "code",
      "source": [
        "plot_loss_curves(model_2_results)"
      ],
      "metadata": {
        "colab": {
          "base_uri": "https://localhost:8080/",
          "height": 353
        },
        "id": "rwXZj0MBliok",
        "outputId": "969d9e74-2562-4cc2-87b7-eff44a7acf84"
      },
      "execution_count": 61,
      "outputs": [
        {
          "output_type": "display_data",
          "data": {
            "text/plain": [
              "<Figure size 1080x504 with 2 Axes>"
            ],
            "image/png": "[encoded data removed]"
          },
          "metadata": {
            "needs_background": "light"
          }
        }
      ]
    },
    {
      "cell_type": "markdown",
      "source": [
        "## Model 0 with `32 hidden units and no Data Augmentation` out performs Model 1 and Model 2\n",
        "\n",
        "Saving all models"
      ],
      "metadata": {
        "id": "umPfGeYlm9fY"
      }
    },
    {
      "cell_type": "code",
      "source": [
        "from pathlib import Path\n",
        "\n",
        "# Create model directory path\n",
        "MODEL_PATH= Path(\"models\")\n",
        "MODEL_PATH.mkdir(parents=True,\n",
        "                 exist_ok=True)\n",
        "\n",
        "# Create model save\n",
        "MODEL_NAME = \"10_hidden_No_Data_Augmentation_model.pth\"\n",
        "MODEL_SAVE_PATH = MODEL_PATH / MODEL_NAME\n",
        "\n",
        "# Save the model state dict\n",
        "print(f\"Saving model to: {MODEL_SAVE_PATH}\")\n",
        "torch.save(obj=model_2.state_dict(),f= MODEL_SAVE_PATH)\n"
      ],
      "metadata": {
        "colab": {
          "base_uri": "https://localhost:8080/"
        },
        "id": "h0YPSbWcm89l",
        "outputId": "851c73c4-7d5a-4b86-af92-25f551b16528"
      },
      "execution_count": 64,
      "outputs": [
        {
          "output_type": "stream",
          "name": "stdout",
          "text": [
            "Saving model to: models/10_hidden_No_Data_Augmentation_model.pth\n"
          ]
        }
      ]
    }
  ]
}